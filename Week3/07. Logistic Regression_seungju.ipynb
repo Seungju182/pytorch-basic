{
 "cells": [
  {
   "cell_type": "markdown",
   "metadata": {},
   "source": [
    "# 7. Logistic Regression"
   ]
  },
  {
   "cell_type": "code",
   "execution_count": 1,
   "metadata": {},
   "outputs": [],
   "source": [
    "import torch\n",
    "import torch.nn as nn\n",
    "import torch.optim as optim\n",
    "\n",
    "import numpy as np\n",
    "from sklearn import datasets"
   ]
  },
  {
   "cell_type": "code",
   "execution_count": 2,
   "metadata": {},
   "outputs": [],
   "source": [
    "import matplotlib.pyplot as plt\n",
    "%matplotlib inline"
   ]
  },
  {
   "cell_type": "markdown",
   "metadata": {},
   "source": [
    "## 7.1 Prepare Data"
   ]
  },
  {
   "cell_type": "markdown",
   "metadata": {},
   "source": [
    "@ Iris Data\n",
    "\n",
    "Data Set Information:\n",
    "\n",
    "This is perhaps the best known database to be found in the pattern recognition literature. Fisher's paper is a classic in the field and is referenced frequently to this day. (See Duda & Hart, for example.) The data set contains 3 classes of 50 instances each, where each class refers to a type of iris plant. One class is linearly separable from the other 2; the latter are NOT linearly separable from each other. \n",
    "\n",
    "Predicted attribute: class of iris plant. \n",
    "\n",
    "This is an exceedingly simple domain. \n",
    "\n",
    "This data differs from the data presented in Fishers article (identified by Steve Chadwick, spchadwick '@' espeedaz.net ). The 35th sample should be: 4.9,3.1,1.5,0.2,\"Iris-setosa\" where the error is in the fourth feature. The 38th sample: 4.9,3.6,1.4,0.1,\"Iris-setosa\" where the errors are in the second and third features.\n",
    "\n",
    "\n",
    "Attribute Information:\n",
    "\n",
    "1. sepal(꽃잎) length in cm \n",
    "2. sepal(꽃잎) width in cm \n",
    "3. petal(꽃받침) length in cm \n",
    "4. petal(꽃받침) width in cm \n",
    "5. class: \n",
    "-- Iris Setosa (부채붓꽃)\n",
    "-- Iris Versicolour (...) \n",
    "-- Iris Virginica (...)"
   ]
  },
  {
   "cell_type": "code",
   "execution_count": 3,
   "metadata": {},
   "outputs": [],
   "source": [
    "iris = datasets.load_iris()\n",
    "\n",
    "#sepal length in cm, sepal width in cm\n",
    "X = iris.data[:, :2]\n",
    "\n",
    "#-- Iris Setosa v.s. -- Iris Versicolour-- Iris Virginica\n",
    "\n",
    "def f(x) :\n",
    "    if x < 1 :\n",
    "        return 0\n",
    "    else :\n",
    "        return 1\n",
    "    \n",
    "Y = np.array(list(map(f, iris.target)))"
   ]
  },
  {
   "cell_type": "code",
   "execution_count": 4,
   "metadata": {},
   "outputs": [
    {
     "data": {
      "image/png": "[encoded data removed]",
      "text/plain": [
       "<Figure size 432x288 with 2 Axes>"
      ]
     },
     "metadata": {},
     "output_type": "display_data"
    }
   ],
   "source": [
    "plt.scatter(X[:, 0], X[:, 1], c = Y)\n",
    "plt.colorbar()\n",
    "plt.show()"
   ]
  },
  {
   "cell_type": "markdown",
   "metadata": {},
   "source": [
    "## 7.2 Define Model"
   ]
  },
  {
   "cell_type": "code",
   "execution_count": 5,
   "metadata": {
    "scrolled": true
   },
   "outputs": [
    {
     "data": {
      "text/plain": [
       "(tensor([[5.1000, 3.5000],\n",
       "         [4.9000, 3.0000],\n",
       "         [4.7000, 3.2000],\n",
       "         [4.6000, 3.1000],\n",
       "         [5.0000, 3.6000],\n",
       "         [5.4000, 3.9000],\n",
       "         [4.6000, 3.4000],\n",
       "         [5.0000, 3.4000],\n",
       "         [4.4000, 2.9000],\n",
       "         [4.9000, 3.1000],\n",
       "         [5.4000, 3.7000],\n",
       "         [4.8000, 3.4000],\n",
       "         [4.8000, 3.0000],\n",
       "         [4.3000, 3.0000],\n",
       "         [5.8000, 4.0000],\n",
       "         [5.7000, 4.4000],\n",
       "         [5.4000, 3.9000],\n",
       "         [5.1000, 3.5000],\n",
       "         [5.7000, 3.8000],\n",
       "         [5.1000, 3.8000],\n",
       "         [5.4000, 3.4000],\n",
       "         [5.1000, 3.7000],\n",
       "         [4.6000, 3.6000],\n",
       "         [5.1000, 3.3000],\n",
       "         [4.8000, 3.4000],\n",
       "         [5.0000, 3.0000],\n",
       "         [5.0000, 3.4000],\n",
       "         [5.2000, 3.5000],\n",
       "         [5.2000, 3.4000],\n",
       "         [4.7000, 3.2000],\n",
       "         [4.8000, 3.1000],\n",
       "         [5.4000, 3.4000],\n",
       "         [5.2000, 4.1000],\n",
       "         [5.5000, 4.2000],\n",
       "         [4.9000, 3.1000],\n",
       "         [5.0000, 3.2000],\n",
       "         [5.5000, 3.5000],\n",
       "         [4.9000, 3.6000],\n",
       "         [4.4000, 3.0000],\n",
       "         [5.1000, 3.4000],\n",
       "         [5.0000, 3.5000],\n",
       "         [4.5000, 2.3000],\n",
       "         [4.4000, 3.2000],\n",
       "         [5.0000, 3.5000],\n",
       "         [5.1000, 3.8000],\n",
       "         [4.8000, 3.0000],\n",
       "         [5.1000, 3.8000],\n",
       "         [4.6000, 3.2000],\n",
       "         [5.3000, 3.7000],\n",
       "         [5.0000, 3.3000],\n",
       "         [7.0000, 3.2000],\n",
       "         [6.4000, 3.2000],\n",
       "         [6.9000, 3.1000],\n",
       "         [5.5000, 2.3000],\n",
       "         [6.5000, 2.8000],\n",
       "         [5.7000, 2.8000],\n",
       "         [6.3000, 3.3000],\n",
       "         [4.9000, 2.4000],\n",
       "         [6.6000, 2.9000],\n",
       "         [5.2000, 2.7000],\n",
       "         [5.0000, 2.0000],\n",
       "         [5.9000, 3.0000],\n",
       "         [6.0000, 2.2000],\n",
       "         [6.1000, 2.9000],\n",
       "         [5.6000, 2.9000],\n",
       "         [6.7000, 3.1000],\n",
       "         [5.6000, 3.0000],\n",
       "         [5.8000, 2.7000],\n",
       "         [6.2000, 2.2000],\n",
       "         [5.6000, 2.5000],\n",
       "         [5.9000, 3.2000],\n",
       "         [6.1000, 2.8000],\n",
       "         [6.3000, 2.5000],\n",
       "         [6.1000, 2.8000],\n",
       "         [6.4000, 2.9000],\n",
       "         [6.6000, 3.0000],\n",
       "         [6.8000, 2.8000],\n",
       "         [6.7000, 3.0000],\n",
       "         [6.0000, 2.9000],\n",
       "         [5.7000, 2.6000],\n",
       "         [5.5000, 2.4000],\n",
       "         [5.5000, 2.4000],\n",
       "         [5.8000, 2.7000],\n",
       "         [6.0000, 2.7000],\n",
       "         [5.4000, 3.0000],\n",
       "         [6.0000, 3.4000],\n",
       "         [6.7000, 3.1000],\n",
       "         [6.3000, 2.3000],\n",
       "         [5.6000, 3.0000],\n",
       "         [5.5000, 2.5000],\n",
       "         [5.5000, 2.6000],\n",
       "         [6.1000, 3.0000],\n",
       "         [5.8000, 2.6000],\n",
       "         [5.0000, 2.3000],\n",
       "         [5.6000, 2.7000],\n",
       "         [5.7000, 3.0000],\n",
       "         [5.7000, 2.9000],\n",
       "         [6.2000, 2.9000],\n",
       "         [5.1000, 2.5000],\n",
       "         [5.7000, 2.8000],\n",
       "         [6.3000, 3.3000],\n",
       "         [5.8000, 2.7000],\n",
       "         [7.1000, 3.0000],\n",
       "         [6.3000, 2.9000],\n",
       "         [6.5000, 3.0000],\n",
       "         [7.6000, 3.0000],\n",
       "         [4.9000, 2.5000],\n",
       "         [7.3000, 2.9000],\n",
       "         [6.7000, 2.5000],\n",
       "         [7.2000, 3.6000],\n",
       "         [6.5000, 3.2000],\n",
       "         [6.4000, 2.7000],\n",
       "         [6.8000, 3.0000],\n",
       "         [5.7000, 2.5000],\n",
       "         [5.8000, 2.8000],\n",
       "         [6.4000, 3.2000],\n",
       "         [6.5000, 3.0000],\n",
       "         [7.7000, 3.8000],\n",
       "         [7.7000, 2.6000],\n",
       "         [6.0000, 2.2000],\n",
       "         [6.9000, 3.2000],\n",
       "         [5.6000, 2.8000],\n",
       "         [7.7000, 2.8000],\n",
       "         [6.3000, 2.7000],\n",
       "         [6.7000, 3.3000],\n",
       "         [7.2000, 3.2000],\n",
       "         [6.2000, 2.8000],\n",
       "         [6.1000, 3.0000],\n",
       "         [6.4000, 2.8000],\n",
       "         [7.2000, 3.0000],\n",
       "         [7.4000, 2.8000],\n",
       "         [7.9000, 3.8000],\n",
       "         [6.4000, 2.8000],\n",
       "         [6.3000, 2.8000],\n",
       "         [6.1000, 2.6000],\n",
       "         [7.7000, 3.0000],\n",
       "         [6.3000, 3.4000],\n",
       "         [6.4000, 3.1000],\n",
       "         [6.0000, 3.0000],\n",
       "         [6.9000, 3.1000],\n",
       "         [6.7000, 3.1000],\n",
       "         [6.9000, 3.1000],\n",
       "         [5.8000, 2.7000],\n",
       "         [6.8000, 3.2000],\n",
       "         [6.7000, 3.3000],\n",
       "         [6.7000, 3.0000],\n",
       "         [6.3000, 2.5000],\n",
       "         [6.5000, 3.0000],\n",
       "         [6.2000, 3.4000],\n",
       "         [5.9000, 3.0000]]),\n",
       " tensor([0., 0., 0., 0., 0., 0., 0., 0., 0., 0., 0., 0., 0., 0., 0., 0., 0., 0.,\n",
       "         0., 0., 0., 0., 0., 0., 0., 0., 0., 0., 0., 0., 0., 0., 0., 0., 0., 0.,\n",
       "         0., 0., 0., 0., 0., 0., 0., 0., 0., 0., 0., 0., 0., 0., 1., 1., 1., 1.,\n",
       "         1., 1., 1., 1., 1., 1., 1., 1., 1., 1., 1., 1., 1., 1., 1., 1., 1., 1.,\n",
       "         1., 1., 1., 1., 1., 1., 1., 1., 1., 1., 1., 1., 1., 1., 1., 1., 1., 1.,\n",
       "         1., 1., 1., 1., 1., 1., 1., 1., 1., 1., 1., 1., 1., 1., 1., 1., 1., 1.,\n",
       "         1., 1., 1., 1., 1., 1., 1., 1., 1., 1., 1., 1., 1., 1., 1., 1., 1., 1.,\n",
       "         1., 1., 1., 1., 1., 1., 1., 1., 1., 1., 1., 1., 1., 1., 1., 1., 1., 1.,\n",
       "         1., 1., 1., 1., 1., 1.]))"
      ]
     },
     "execution_count": 5,
     "metadata": {},
     "output_type": "execute_result"
    }
   ],
   "source": [
    "x, y = torch.from_numpy(X).float(), torch.from_numpy(Y).float()\n",
    "x, y"
   ]
  },
  {
   "cell_type": "code",
   "execution_count": 6,
   "metadata": {},
   "outputs": [],
   "source": [
    "linear = nn.Linear(2, 1, bias = True)\n",
    "sigmoid = nn.Sigmoid()\n",
    "\n",
    "model = nn.Sequential(linear, sigmoid)"
   ]
  },
  {
   "cell_type": "code",
   "execution_count": 7,
   "metadata": {},
   "outputs": [],
   "source": [
    "#Binary Cross Entropy Loss\n",
    "loss = nn.BCELoss() # probability(1d), y\n",
    "optimizer = optim.SGD(model.parameters(), lr=0.01)"
   ]
  },
  {
   "cell_type": "markdown",
   "metadata": {},
   "source": [
    "## 7.3 Train Model"
   ]
  },
  {
   "cell_type": "code",
   "execution_count": 8,
   "metadata": {},
   "outputs": [
    {
     "name": "stdout",
     "output_type": "stream",
     "text": [
      "Step :  0 , Cost :  0.7844293117523193\n",
      "Step :  200 , Cost :  0.4872831106185913\n",
      "Step :  400 , Cost :  0.42280322313308716\n",
      "Step :  600 , Cost :  0.37328943610191345\n",
      "Step :  800 , Cost :  0.3345266580581665\n",
      "Step :  1000 , Cost :  0.30357059836387634\n",
      "Step :  1200 , Cost :  0.27838146686553955\n",
      "Step :  1400 , Cost :  0.257534921169281\n",
      "Step :  1600 , Cost :  0.2400212287902832\n",
      "Step :  1800 , Cost :  0.22511158883571625\n"
     ]
    }
   ],
   "source": [
    "for step in range(2000):\n",
    "    prob = model(x)\n",
    "    cost = loss(prob, y.view(150, 1)) # should reshape y to fit into BCE Loss\n",
    "    \n",
    "    optimizer.zero_grad()\n",
    "    cost.backward()\n",
    "    optimizer.step()\n",
    "    \n",
    "    if step % 200 == 0 :\n",
    "        print(\"Step : \",step, \", Cost : \", cost.item())"
   ]
  },
  {
   "cell_type": "markdown",
   "metadata": {},
   "source": [
    "## 7.4 Test Model"
   ]
  },
  {
   "cell_type": "code",
   "execution_count": 9,
   "metadata": {},
   "outputs": [
    {
     "data": {
      "image/png": "[encoded data removed]",
      "text/plain": [
       "<Figure size 1152x360 with 4 Axes>"
      ]
     },
     "metadata": {},
     "output_type": "display_data"
    }
   ],
   "source": [
    "fig = plt.figure(figsize = (16, 5))\n",
    "\n",
    "ax1 = fig.add_subplot(1, 2, 1)\n",
    "ax2 = fig.add_subplot(1, 2, 2)\n",
    "\n",
    "z1_plot = ax1.scatter(X[:, 0], X[:, 1], c = Y)\n",
    "z2_plot = ax2.scatter(X[:, 0], X[:, 1], c = model(x).squeeze().data.numpy() > 0.5)\n",
    "\n",
    "plt.colorbar(z1_plot,ax=ax1)\n",
    "plt.colorbar(z2_plot,ax=ax2)\n",
    "\n",
    "ax1.set_title(\"REAL\")\n",
    "ax2.set_title(\"PREDICT\")\n",
    "\n",
    "plt.show()"
   ]
  },
  {
   "cell_type": "markdown",
   "metadata": {},
   "source": [
    "# 추가"
   ]
  },
  {
   "cell_type": "markdown",
   "metadata": {},
   "source": [
    "logistic regression을 직접 수식으로 구현   \n",
    "참고링크:\n",
    "* https://github.com/deeplearningzerotoall/PyTorch/blob/master/lab-05_logistic_classification.ipynb"
   ]
  },
  {
   "cell_type": "code",
   "execution_count": 10,
   "metadata": {},
   "outputs": [],
   "source": [
    "x_data = [[1, 2], [2, 3], [3, 1], [4, 3], [5, 3], [6, 2]]\n",
    "y_data = [[0], [0], [0], [1], [1], [1]]"
   ]
  },
  {
   "cell_type": "code",
   "execution_count": 11,
   "metadata": {},
   "outputs": [],
   "source": [
    "x_train = torch.FloatTensor(x_data)\n",
    "y_train = torch.FloatTensor(y_data)"
   ]
  },
  {
   "cell_type": "code",
   "execution_count": 12,
   "metadata": {},
   "outputs": [
    {
     "name": "stdout",
     "output_type": "stream",
     "text": [
      "e^1 equals:  tensor([2.7183])\n"
     ]
    }
   ],
   "source": [
    "# check the format of hypothesis\n",
    "print('e^1 equals: ', torch.exp(torch.FloatTensor([1])))"
   ]
  },
  {
   "cell_type": "code",
   "execution_count": 13,
   "metadata": {},
   "outputs": [],
   "source": [
    "W = torch.zeros((2, 1), requires_grad=True)\n",
    "b = torch.zeros(1, requires_grad=True)"
   ]
  },
  {
   "cell_type": "code",
   "execution_count": 14,
   "metadata": {},
   "outputs": [],
   "source": [
    "# hypothesis function\n",
    "hypothesis = 1 / (1 + torch.exp(-(x_train.matmul(W) + b)))"
   ]
  },
  {
   "cell_type": "code",
   "execution_count": 15,
   "metadata": {},
   "outputs": [
    {
     "name": "stdout",
     "output_type": "stream",
     "text": [
      "tensor([[0.5000],\n",
      "        [0.5000],\n",
      "        [0.5000],\n",
      "        [0.5000],\n",
      "        [0.5000],\n",
      "        [0.5000]], grad_fn=<MulBackward0>)\n",
      "torch.Size([6, 1])\n"
     ]
    }
   ],
   "source": [
    "print(hypothesis)\n",
    "print(hypothesis.shape)"
   ]
  },
  {
   "cell_type": "code",
   "execution_count": 16,
   "metadata": {},
   "outputs": [],
   "source": [
    "# use in-built sigmoid function\n",
    "hypothesis = torch.sigmoid(x_train.matmul(W) + b)"
   ]
  },
  {
   "cell_type": "code",
   "execution_count": 17,
   "metadata": {},
   "outputs": [
    {
     "name": "stdout",
     "output_type": "stream",
     "text": [
      "tensor([[0.5000],\n",
      "        [0.5000],\n",
      "        [0.5000],\n",
      "        [0.5000],\n",
      "        [0.5000],\n",
      "        [0.5000]], grad_fn=<SigmoidBackward>)\n",
      "torch.Size([6, 1])\n"
     ]
    }
   ],
   "source": [
    "print(hypothesis)\n",
    "print(hypothesis.shape)"
   ]
  },
  {
   "cell_type": "code",
   "execution_count": 19,
   "metadata": {},
   "outputs": [
    {
     "name": "stdout",
     "output_type": "stream",
     "text": [
      "tensor([[0.6931],\n",
      "        [0.6931],\n",
      "        [0.6931],\n",
      "        [0.6931],\n",
      "        [0.6931],\n",
      "        [0.6931]], grad_fn=<NegBackward>)\n"
     ]
    }
   ],
   "source": [
    "# Compute loss(cost) function\n",
    "losses = -(y_train * torch.log(hypothesis) + \n",
    "           (1 - y_train) * torch.log(1 - hypothesis))\n",
    "print(losses)"
   ]
  },
  {
   "cell_type": "code",
   "execution_count": 20,
   "metadata": {},
   "outputs": [
    {
     "name": "stdout",
     "output_type": "stream",
     "text": [
      "tensor(0.6931, grad_fn=<MeanBackward0>)\n"
     ]
    }
   ],
   "source": [
    "cost = losses.mean()\n",
    "print(cost)"
   ]
  },
  {
   "cell_type": "code",
   "execution_count": 22,
   "metadata": {},
   "outputs": [],
   "source": [
    "import torch.nn.functional as F"
   ]
  },
  {
   "cell_type": "code",
   "execution_count": 23,
   "metadata": {},
   "outputs": [
    {
     "data": {
      "text/plain": [
       "tensor(0.6931, grad_fn=<BinaryCrossEntropyBackward>)"
      ]
     },
     "execution_count": 23,
     "metadata": {},
     "output_type": "execute_result"
    }
   ],
   "source": [
    "# Use in-built binary cross entropy function\n",
    "\n",
    "F.binary_cross_entropy(hypothesis, y_train)"
   ]
  },
  {
   "cell_type": "code",
   "execution_count": 24,
   "metadata": {},
   "outputs": [
    {
     "name": "stdout",
     "output_type": "stream",
     "text": [
      "Epoch    0/1000 Cost: 0.693147\n",
      "Epoch  100/1000 Cost: 0.134722\n",
      "Epoch  200/1000 Cost: 0.080643\n",
      "Epoch  300/1000 Cost: 0.057900\n",
      "Epoch  400/1000 Cost: 0.045300\n",
      "Epoch  500/1000 Cost: 0.037261\n",
      "Epoch  600/1000 Cost: 0.031673\n",
      "Epoch  700/1000 Cost: 0.027556\n",
      "Epoch  800/1000 Cost: 0.024394\n",
      "Epoch  900/1000 Cost: 0.021888\n",
      "Epoch 1000/1000 Cost: 0.019852\n"
     ]
    }
   ],
   "source": [
    "# 모델 초기화\n",
    "W = torch.zeros((2, 1), requires_grad=True)\n",
    "b = torch.zeros(1, requires_grad=True)\n",
    "# optimizer 설정\n",
    "optimizer = optim.SGD([W, b], lr=1)\n",
    "\n",
    "nb_epochs = 1000\n",
    "for epoch in range(nb_epochs + 1):\n",
    "\n",
    "    # Cost 계산\n",
    "    hypothesis = torch.sigmoid(x_train.matmul(W) + b) # or .mm or @\n",
    "    cost = -(y_train * torch.log(hypothesis) + \n",
    "             (1 - y_train) * torch.log(1 - hypothesis)).mean()\n",
    "\n",
    "    # cost로 H(x) 개선\n",
    "    optimizer.zero_grad()\n",
    "    cost.backward()\n",
    "    optimizer.step()\n",
    "\n",
    "    # 100번마다 로그 출력\n",
    "    if epoch % 100 == 0:\n",
    "        print('Epoch {:4d}/{} Cost: {:.6f}'.format(\n",
    "            epoch, nb_epochs, cost.item()\n",
    "        ))"
   ]
  },
  {
   "cell_type": "code",
   "execution_count": 25,
   "metadata": {},
   "outputs": [
    {
     "name": "stdout",
     "output_type": "stream",
     "text": [
      "Epoch    0/1000 Cost: 0.693147\n",
      "Epoch  100/1000 Cost: 0.134722\n",
      "Epoch  200/1000 Cost: 0.080643\n",
      "Epoch  300/1000 Cost: 0.057900\n",
      "Epoch  400/1000 Cost: 0.045300\n",
      "Epoch  500/1000 Cost: 0.037261\n",
      "Epoch  600/1000 Cost: 0.031672\n",
      "Epoch  700/1000 Cost: 0.027556\n",
      "Epoch  800/1000 Cost: 0.024394\n",
      "Epoch  900/1000 Cost: 0.021888\n",
      "Epoch 1000/1000 Cost: 0.019852\n"
     ]
    }
   ],
   "source": [
    "# 모델 초기화\n",
    "W = torch.zeros((2, 1), requires_grad=True)\n",
    "b = torch.zeros(1, requires_grad=True)\n",
    "# optimizer 설정\n",
    "optimizer = optim.SGD([W, b], lr=1)\n",
    "\n",
    "nb_epochs = 1000\n",
    "for epoch in range(nb_epochs + 1):\n",
    "\n",
    "    # Cost 계산\n",
    "    hypothesis = torch.sigmoid(x_train.matmul(W) + b) # or .mm or @\n",
    "    cost = F.binary_cross_entropy(hypothesis, y_train)\n",
    "\n",
    "    # cost로 H(x) 개선\n",
    "    optimizer.zero_grad()\n",
    "    cost.backward()\n",
    "    optimizer.step()\n",
    "\n",
    "    # 100번마다 로그 출력\n",
    "    if epoch % 100 == 0:\n",
    "        print('Epoch {:4d}/{} Cost: {:.6f}'.format(\n",
    "            epoch, nb_epochs, cost.item()\n",
    "        ))"
   ]
  },
  {
   "cell_type": "code",
   "execution_count": null,
   "metadata": {},
   "outputs": [],
   "source": []
  }
 ],
 "metadata": {
  "kernelspec": {
   "display_name": "Python 3",
   "language": "python",
   "name": "python3"
  },
  "language_info": {
   "codemirror_mode": {
    "name": "ipython",
    "version": 3
   },
   "file_extension": ".py",
   "mimetype": "text/x-python",
   "name": "python",
   "nbconvert_exporter": "python",
   "pygments_lexer": "ipython3",
   "version": "3.6.3"
  }
 },
 "nbformat": 4,
 "nbformat_minor": 2
}
